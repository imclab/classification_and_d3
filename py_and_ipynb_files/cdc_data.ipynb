{
 "cells": [
  {
   "cell_type": "code",
   "execution_count": 1,
   "metadata": {
    "collapsed": false
   },
   "outputs": [],
   "source": [
    "import csv\n",
    "import pandas as pd\n",
    "from postgresql_conn import engine\n",
    "\n",
    "path = '../data/'"
   ]
  },
  {
   "cell_type": "markdown",
   "metadata": {},
   "source": [
    "###<font color='blue'>demographic</font>"
   ]
  },
  {
   "cell_type": "code",
   "execution_count": 2,
   "metadata": {
    "collapsed": false
   },
   "outputs": [
    {
     "data": {
      "text/html": [
       "<div>\n",
       "<table border=\"1\" class=\"dataframe\">\n",
       "  <thead>\n",
       "    <tr style=\"text-align: right;\">\n",
       "      <th></th>\n",
       "      <th>seqn</th>\n",
       "      <th>sddsrvyr</th>\n",
       "      <th>riagendr</th>\n",
       "      <th>ridageyr</th>\n",
       "      <th>ridagemn</th>\n",
       "    </tr>\n",
       "  </thead>\n",
       "  <tbody>\n",
       "    <tr>\n",
       "      <th>0</th>\n",
       "      <td>62161</td>\n",
       "      <td>7</td>\n",
       "      <td>1</td>\n",
       "      <td>22</td>\n",
       "      <td>NaN</td>\n",
       "    </tr>\n",
       "    <tr>\n",
       "      <th>1</th>\n",
       "      <td>62162</td>\n",
       "      <td>7</td>\n",
       "      <td>2</td>\n",
       "      <td>3</td>\n",
       "      <td>NaN</td>\n",
       "    </tr>\n",
       "    <tr>\n",
       "      <th>2</th>\n",
       "      <td>62163</td>\n",
       "      <td>7</td>\n",
       "      <td>1</td>\n",
       "      <td>14</td>\n",
       "      <td>NaN</td>\n",
       "    </tr>\n",
       "    <tr>\n",
       "      <th>3</th>\n",
       "      <td>62164</td>\n",
       "      <td>7</td>\n",
       "      <td>2</td>\n",
       "      <td>44</td>\n",
       "      <td>NaN</td>\n",
       "    </tr>\n",
       "    <tr>\n",
       "      <th>4</th>\n",
       "      <td>62165</td>\n",
       "      <td>7</td>\n",
       "      <td>2</td>\n",
       "      <td>14</td>\n",
       "      <td>NaN</td>\n",
       "    </tr>\n",
       "  </tbody>\n",
       "</table>\n",
       "</div>"
      ],
      "text/plain": [
       "    seqn  sddsrvyr  riagendr  ridageyr  ridagemn\n",
       "0  62161         7         1        22       NaN\n",
       "1  62162         7         2         3       NaN\n",
       "2  62163         7         1        14       NaN\n",
       "3  62164         7         2        44       NaN\n",
       "4  62165         7         2        14       NaN"
      ]
     },
     "execution_count": 2,
     "metadata": {},
     "output_type": "execute_result"
    }
   ],
   "source": [
    "dem = pd.read_csv(path + 'demographic.dat')\n",
    "demographic = dem[['SEQN', 'SDDSRVYR', 'RIAGENDR', 'RIDAGEYR', 'RIDAGEMN']]\n",
    "demographic.columns = map(str.lower, demographic.columns)\n",
    "demographic.head()"
   ]
  },
  {
   "cell_type": "code",
   "execution_count": 3,
   "metadata": {
    "collapsed": false
   },
   "outputs": [],
   "source": [
    "demographic.to_sql('demographic', engine, index=False, if_exists='append', chunksize=1000)"
   ]
  },
  {
   "cell_type": "markdown",
   "metadata": {
    "collapsed": true
   },
   "source": [
    "###<font color='blue'>body measure</font>"
   ]
  },
  {
   "cell_type": "code",
   "execution_count": 4,
   "metadata": {
    "collapsed": false
   },
   "outputs": [
    {
     "data": {
      "text/html": [
       "<div>\n",
       "<table border=\"1\" class=\"dataframe\">\n",
       "  <thead>\n",
       "    <tr style=\"text-align: right;\">\n",
       "      <th></th>\n",
       "      <th>seqn</th>\n",
       "      <th>bmxwt</th>\n",
       "      <th>bmiwt</th>\n",
       "      <th>bmirecum</th>\n",
       "      <th>bmxhead</th>\n",
       "      <th>bmxht</th>\n",
       "      <th>bmxbmi</th>\n",
       "      <th>bmdbmic</th>\n",
       "      <th>bmxleg</th>\n",
       "      <th>bmxarml</th>\n",
       "      <th>bmxarmc</th>\n",
       "      <th>bmxwaist</th>\n",
       "      <th>bmxsad1</th>\n",
       "      <th>bmxsad2</th>\n",
       "      <th>bmxsad3</th>\n",
       "      <th>bmxsad4</th>\n",
       "    </tr>\n",
       "  </thead>\n",
       "  <tbody>\n",
       "    <tr>\n",
       "      <th>0</th>\n",
       "      <td>62161</td>\n",
       "      <td>69.2</td>\n",
       "      <td>NaN</td>\n",
       "      <td>NaN</td>\n",
       "      <td>NaN</td>\n",
       "      <td>172.3</td>\n",
       "      <td>23.3</td>\n",
       "      <td>NaN</td>\n",
       "      <td>40.2</td>\n",
       "      <td>35.0</td>\n",
       "      <td>32.5</td>\n",
       "      <td>81.0</td>\n",
       "      <td>17.7</td>\n",
       "      <td>17.9</td>\n",
       "      <td>NaN</td>\n",
       "      <td>NaN</td>\n",
       "    </tr>\n",
       "    <tr>\n",
       "      <th>1</th>\n",
       "      <td>62162</td>\n",
       "      <td>12.7</td>\n",
       "      <td>NaN</td>\n",
       "      <td>NaN</td>\n",
       "      <td>NaN</td>\n",
       "      <td>94.7</td>\n",
       "      <td>14.2</td>\n",
       "      <td>2</td>\n",
       "      <td>NaN</td>\n",
       "      <td>18.5</td>\n",
       "      <td>16.6</td>\n",
       "      <td>45.4</td>\n",
       "      <td>NaN</td>\n",
       "      <td>NaN</td>\n",
       "      <td>NaN</td>\n",
       "      <td>NaN</td>\n",
       "    </tr>\n",
       "    <tr>\n",
       "      <th>2</th>\n",
       "      <td>62163</td>\n",
       "      <td>49.4</td>\n",
       "      <td>NaN</td>\n",
       "      <td>NaN</td>\n",
       "      <td>NaN</td>\n",
       "      <td>168.9</td>\n",
       "      <td>17.3</td>\n",
       "      <td>2</td>\n",
       "      <td>40.3</td>\n",
       "      <td>36.3</td>\n",
       "      <td>22.0</td>\n",
       "      <td>64.6</td>\n",
       "      <td>15.6</td>\n",
       "      <td>15.5</td>\n",
       "      <td>NaN</td>\n",
       "      <td>NaN</td>\n",
       "    </tr>\n",
       "    <tr>\n",
       "      <th>3</th>\n",
       "      <td>62164</td>\n",
       "      <td>67.2</td>\n",
       "      <td>NaN</td>\n",
       "      <td>NaN</td>\n",
       "      <td>NaN</td>\n",
       "      <td>170.1</td>\n",
       "      <td>23.2</td>\n",
       "      <td>NaN</td>\n",
       "      <td>40.5</td>\n",
       "      <td>37.2</td>\n",
       "      <td>29.3</td>\n",
       "      <td>80.1</td>\n",
       "      <td>18.3</td>\n",
       "      <td>18.5</td>\n",
       "      <td>NaN</td>\n",
       "      <td>NaN</td>\n",
       "    </tr>\n",
       "    <tr>\n",
       "      <th>4</th>\n",
       "      <td>62165</td>\n",
       "      <td>69.1</td>\n",
       "      <td>NaN</td>\n",
       "      <td>NaN</td>\n",
       "      <td>NaN</td>\n",
       "      <td>159.4</td>\n",
       "      <td>27.2</td>\n",
       "      <td>3</td>\n",
       "      <td>42.1</td>\n",
       "      <td>35.2</td>\n",
       "      <td>29.7</td>\n",
       "      <td>86.7</td>\n",
       "      <td>21.0</td>\n",
       "      <td>20.8</td>\n",
       "      <td>NaN</td>\n",
       "      <td>NaN</td>\n",
       "    </tr>\n",
       "  </tbody>\n",
       "</table>\n",
       "</div>"
      ],
      "text/plain": [
       "    seqn  bmxwt  bmiwt  bmirecum  bmxhead  bmxht  bmxbmi  bmdbmic  bmxleg  \\\n",
       "0  62161   69.2    NaN       NaN      NaN  172.3    23.3      NaN    40.2   \n",
       "1  62162   12.7    NaN       NaN      NaN   94.7    14.2        2     NaN   \n",
       "2  62163   49.4    NaN       NaN      NaN  168.9    17.3        2    40.3   \n",
       "3  62164   67.2    NaN       NaN      NaN  170.1    23.2      NaN    40.5   \n",
       "4  62165   69.1    NaN       NaN      NaN  159.4    27.2        3    42.1   \n",
       "\n",
       "   bmxarml  bmxarmc  bmxwaist  bmxsad1  bmxsad2  bmxsad3  bmxsad4  \n",
       "0     35.0     32.5      81.0     17.7     17.9      NaN      NaN  \n",
       "1     18.5     16.6      45.4      NaN      NaN      NaN      NaN  \n",
       "2     36.3     22.0      64.6     15.6     15.5      NaN      NaN  \n",
       "3     37.2     29.3      80.1     18.3     18.5      NaN      NaN  \n",
       "4     35.2     29.7      86.7     21.0     20.8      NaN      NaN  "
      ]
     },
     "execution_count": 4,
     "metadata": {},
     "output_type": "execute_result"
    }
   ],
   "source": [
    "bm = pd.read_csv(path + 'body_measure.dat')\n",
    "body_measure = bm[['SEQN', 'BMXWT', 'BMIWT', 'BMIRECUM', 'BMXHEAD', 'BMXHT', 'BMXBMI', 'BMDBMIC', 'BMXLEG', 'BMXARML', 'BMXARMC', 'BMXWAIST', 'BMXSAD1', 'BMXSAD2', 'BMXSAD3', 'BMXSAD4']]\n",
    "body_measure.columns = map(str.lower, body_measure.columns)\n",
    "body_measure.head()\n",
    "#len(body_measure)"
   ]
  },
  {
   "cell_type": "code",
   "execution_count": 5,
   "metadata": {
    "collapsed": true
   },
   "outputs": [],
   "source": [
    "body_measure.to_sql('body_measure', engine, index=False, if_exists='append', chunksize=1000)"
   ]
  },
  {
   "cell_type": "markdown",
   "metadata": {},
   "source": [
    "###<font color='blue'>current health status</font>"
   ]
  },
  {
   "cell_type": "code",
   "execution_count": 6,
   "metadata": {
    "collapsed": false
   },
   "outputs": [
    {
     "data": {
      "text/html": [
       "<div>\n",
       "<table border=\"1\" class=\"dataframe\">\n",
       "  <thead>\n",
       "    <tr style=\"text-align: right;\">\n",
       "      <th></th>\n",
       "      <th>seqn</th>\n",
       "      <th>hsd010</th>\n",
       "      <th>hsq470</th>\n",
       "      <th>hsq480</th>\n",
       "      <th>hsq490</th>\n",
       "      <th>hsq496</th>\n",
       "      <th>hsaquex</th>\n",
       "    </tr>\n",
       "  </thead>\n",
       "  <tbody>\n",
       "    <tr>\n",
       "      <th>0</th>\n",
       "      <td>62161</td>\n",
       "      <td>3</td>\n",
       "      <td>0</td>\n",
       "      <td>0</td>\n",
       "      <td>0</td>\n",
       "      <td>0</td>\n",
       "      <td>2</td>\n",
       "    </tr>\n",
       "    <tr>\n",
       "      <th>1</th>\n",
       "      <td>62162</td>\n",
       "      <td>NaN</td>\n",
       "      <td>NaN</td>\n",
       "      <td>NaN</td>\n",
       "      <td>NaN</td>\n",
       "      <td>NaN</td>\n",
       "      <td>1</td>\n",
       "    </tr>\n",
       "    <tr>\n",
       "      <th>2</th>\n",
       "      <td>62163</td>\n",
       "      <td>3</td>\n",
       "      <td>0</td>\n",
       "      <td>0</td>\n",
       "      <td>0</td>\n",
       "      <td>2</td>\n",
       "      <td>2</td>\n",
       "    </tr>\n",
       "    <tr>\n",
       "      <th>3</th>\n",
       "      <td>62164</td>\n",
       "      <td>NaN</td>\n",
       "      <td>NaN</td>\n",
       "      <td>NaN</td>\n",
       "      <td>NaN</td>\n",
       "      <td>NaN</td>\n",
       "      <td>2</td>\n",
       "    </tr>\n",
       "    <tr>\n",
       "      <th>4</th>\n",
       "      <td>62165</td>\n",
       "      <td>4</td>\n",
       "      <td>5</td>\n",
       "      <td>15</td>\n",
       "      <td>0</td>\n",
       "      <td>3</td>\n",
       "      <td>2</td>\n",
       "    </tr>\n",
       "  </tbody>\n",
       "</table>\n",
       "</div>"
      ],
      "text/plain": [
       "    seqn  hsd010  hsq470  hsq480  hsq490  hsq496  hsaquex\n",
       "0  62161       3       0       0       0       0        2\n",
       "1  62162     NaN     NaN     NaN     NaN     NaN        1\n",
       "2  62163       3       0       0       0       2        2\n",
       "3  62164     NaN     NaN     NaN     NaN     NaN        2\n",
       "4  62165       4       5      15       0       3        2"
      ]
     },
     "execution_count": 6,
     "metadata": {},
     "output_type": "execute_result"
    }
   ],
   "source": [
    "hs = pd.read_csv(path + 'current_health_status.dat')\n",
    "current_health_status = hs[['SEQN', 'HSD010', 'HSQ470', 'HSQ480', 'HSQ490', 'HSQ496', 'HSAQUEX']]\n",
    "current_health_status.columns = map(str.lower, current_health_status.columns)\n",
    "current_health_status.head()\n",
    "#len(current_health_status)"
   ]
  },
  {
   "cell_type": "code",
   "execution_count": 7,
   "metadata": {
    "collapsed": true
   },
   "outputs": [],
   "source": [
    "current_health_status.to_sql('current_health_status', engine, index=False, if_exists='append', chunksize=1000)"
   ]
  },
  {
   "cell_type": "markdown",
   "metadata": {},
   "source": [
    "###<font color='blue'>diet behavior</font>"
   ]
  },
  {
   "cell_type": "code",
   "execution_count": 8,
   "metadata": {
    "collapsed": false,
    "scrolled": true
   },
   "outputs": [
    {
     "data": {
      "text/html": [
       "<div>\n",
       "<table border=\"1\" class=\"dataframe\">\n",
       "  <thead>\n",
       "    <tr style=\"text-align: right;\">\n",
       "      <th></th>\n",
       "      <th>seqn</th>\n",
       "      <th>dbq700</th>\n",
       "      <th>dbq197</th>\n",
       "      <th>dbq223a</th>\n",
       "      <th>dbq223b</th>\n",
       "      <th>dbq223c</th>\n",
       "      <th>dbq223d</th>\n",
       "      <th>dbq223e</th>\n",
       "      <th>dbq229</th>\n",
       "      <th>dbd895</th>\n",
       "      <th>dbd900</th>\n",
       "      <th>dbd905</th>\n",
       "      <th>dbd910</th>\n",
       "    </tr>\n",
       "  </thead>\n",
       "  <tbody>\n",
       "    <tr>\n",
       "      <th>0</th>\n",
       "      <td>62161</td>\n",
       "      <td>2</td>\n",
       "      <td>3</td>\n",
       "      <td>NaN</td>\n",
       "      <td>NaN</td>\n",
       "      <td>NaN</td>\n",
       "      <td>13</td>\n",
       "      <td>NaN</td>\n",
       "      <td>1</td>\n",
       "      <td>2</td>\n",
       "      <td>2</td>\n",
       "      <td>0</td>\n",
       "      <td>0</td>\n",
       "    </tr>\n",
       "    <tr>\n",
       "      <th>1</th>\n",
       "      <td>62162</td>\n",
       "      <td>NaN</td>\n",
       "      <td>3</td>\n",
       "      <td>10</td>\n",
       "      <td>NaN</td>\n",
       "      <td>NaN</td>\n",
       "      <td>NaN</td>\n",
       "      <td>NaN</td>\n",
       "      <td>NaN</td>\n",
       "      <td>0</td>\n",
       "      <td>NaN</td>\n",
       "      <td>0</td>\n",
       "      <td>1</td>\n",
       "    </tr>\n",
       "    <tr>\n",
       "      <th>2</th>\n",
       "      <td>62163</td>\n",
       "      <td>NaN</td>\n",
       "      <td>3</td>\n",
       "      <td>NaN</td>\n",
       "      <td>NaN</td>\n",
       "      <td>NaN</td>\n",
       "      <td>13</td>\n",
       "      <td>NaN</td>\n",
       "      <td>NaN</td>\n",
       "      <td>0</td>\n",
       "      <td>NaN</td>\n",
       "      <td>0</td>\n",
       "      <td>2</td>\n",
       "    </tr>\n",
       "    <tr>\n",
       "      <th>3</th>\n",
       "      <td>62164</td>\n",
       "      <td>1</td>\n",
       "      <td>0</td>\n",
       "      <td>NaN</td>\n",
       "      <td>NaN</td>\n",
       "      <td>NaN</td>\n",
       "      <td>NaN</td>\n",
       "      <td>NaN</td>\n",
       "      <td>2</td>\n",
       "      <td>3</td>\n",
       "      <td>0</td>\n",
       "      <td>0</td>\n",
       "      <td>0</td>\n",
       "    </tr>\n",
       "    <tr>\n",
       "      <th>4</th>\n",
       "      <td>62165</td>\n",
       "      <td>NaN</td>\n",
       "      <td>3</td>\n",
       "      <td>10</td>\n",
       "      <td>NaN</td>\n",
       "      <td>NaN</td>\n",
       "      <td>NaN</td>\n",
       "      <td>NaN</td>\n",
       "      <td>NaN</td>\n",
       "      <td>2</td>\n",
       "      <td>2</td>\n",
       "      <td>5</td>\n",
       "      <td>3</td>\n",
       "    </tr>\n",
       "  </tbody>\n",
       "</table>\n",
       "</div>"
      ],
      "text/plain": [
       "    seqn  dbq700  dbq197  dbq223a  dbq223b  dbq223c  dbq223d  dbq223e  dbq229  \\\n",
       "0  62161       2       3      NaN      NaN      NaN       13      NaN       1   \n",
       "1  62162     NaN       3       10      NaN      NaN      NaN      NaN     NaN   \n",
       "2  62163     NaN       3      NaN      NaN      NaN       13      NaN     NaN   \n",
       "3  62164       1       0      NaN      NaN      NaN      NaN      NaN       2   \n",
       "4  62165     NaN       3       10      NaN      NaN      NaN      NaN     NaN   \n",
       "\n",
       "   dbd895  dbd900  dbd905  dbd910  \n",
       "0       2       2       0       0  \n",
       "1       0     NaN       0       1  \n",
       "2       0     NaN       0       2  \n",
       "3       3       0       0       0  \n",
       "4       2       2       5       3  "
      ]
     },
     "execution_count": 8,
     "metadata": {},
     "output_type": "execute_result"
    }
   ],
   "source": [
    "diet = pd.read_csv(path + 'diet_behavior.dat')\n",
    "diet_behavior = diet[['SEQN', 'DBQ700', 'DBQ197', 'DBQ223A', 'DBQ223B', 'DBQ223C', 'DBQ223D', 'DBQ223E', 'DBQ229', 'DBD895', 'DBD900', 'DBD905', 'DBD910']]\n",
    "diet_behavior.columns = map(str.lower, diet_behavior.columns)\n",
    "diet_behavior.head()\n",
    "#len(diet_behavior)"
   ]
  },
  {
   "cell_type": "code",
   "execution_count": 9,
   "metadata": {
    "collapsed": true
   },
   "outputs": [],
   "source": [
    "diet_behavior.to_sql('diet_behavior', engine, index=False, if_exists='append', chunksize=1000)"
   ]
  },
  {
   "cell_type": "markdown",
   "metadata": {},
   "source": [
    "###<font color='blue'>physical activity</font>"
   ]
  },
  {
   "cell_type": "code",
   "execution_count": 10,
   "metadata": {
    "collapsed": false
   },
   "outputs": [
    {
     "data": {
      "text/html": [
       "<div>\n",
       "<table border=\"1\" class=\"dataframe\">\n",
       "  <thead>\n",
       "    <tr style=\"text-align: right;\">\n",
       "      <th></th>\n",
       "      <th>seqn</th>\n",
       "      <th>paq706</th>\n",
       "      <th>paq605</th>\n",
       "      <th>paq610</th>\n",
       "      <th>pad615</th>\n",
       "      <th>paq620</th>\n",
       "      <th>paq625</th>\n",
       "      <th>pad630</th>\n",
       "      <th>paq635</th>\n",
       "      <th>paq640</th>\n",
       "      <th>...</th>\n",
       "      <th>paq650</th>\n",
       "      <th>paq655</th>\n",
       "      <th>pad660</th>\n",
       "      <th>paq665</th>\n",
       "      <th>paq670</th>\n",
       "      <th>pad675</th>\n",
       "      <th>pad680</th>\n",
       "      <th>paq710</th>\n",
       "      <th>paq715</th>\n",
       "      <th>paaquex</th>\n",
       "    </tr>\n",
       "  </thead>\n",
       "  <tbody>\n",
       "    <tr>\n",
       "      <th>0</th>\n",
       "      <td>62161</td>\n",
       "      <td>NaN</td>\n",
       "      <td>2</td>\n",
       "      <td>NaN</td>\n",
       "      <td>NaN</td>\n",
       "      <td>2</td>\n",
       "      <td>NaN</td>\n",
       "      <td>NaN</td>\n",
       "      <td>2</td>\n",
       "      <td>NaN</td>\n",
       "      <td>...</td>\n",
       "      <td>2</td>\n",
       "      <td>NaN</td>\n",
       "      <td>NaN</td>\n",
       "      <td>2</td>\n",
       "      <td>NaN</td>\n",
       "      <td>NaN</td>\n",
       "      <td>300</td>\n",
       "      <td>3</td>\n",
       "      <td>3</td>\n",
       "      <td>1</td>\n",
       "    </tr>\n",
       "    <tr>\n",
       "      <th>1</th>\n",
       "      <td>62162</td>\n",
       "      <td>7</td>\n",
       "      <td>NaN</td>\n",
       "      <td>NaN</td>\n",
       "      <td>NaN</td>\n",
       "      <td>NaN</td>\n",
       "      <td>NaN</td>\n",
       "      <td>NaN</td>\n",
       "      <td>NaN</td>\n",
       "      <td>NaN</td>\n",
       "      <td>...</td>\n",
       "      <td>NaN</td>\n",
       "      <td>NaN</td>\n",
       "      <td>NaN</td>\n",
       "      <td>NaN</td>\n",
       "      <td>NaN</td>\n",
       "      <td>NaN</td>\n",
       "      <td>NaN</td>\n",
       "      <td>0</td>\n",
       "      <td>8</td>\n",
       "      <td>1</td>\n",
       "    </tr>\n",
       "    <tr>\n",
       "      <th>2</th>\n",
       "      <td>62163</td>\n",
       "      <td>NaN</td>\n",
       "      <td>2</td>\n",
       "      <td>NaN</td>\n",
       "      <td>NaN</td>\n",
       "      <td>2</td>\n",
       "      <td>NaN</td>\n",
       "      <td>NaN</td>\n",
       "      <td>1</td>\n",
       "      <td>6</td>\n",
       "      <td>...</td>\n",
       "      <td>2</td>\n",
       "      <td>NaN</td>\n",
       "      <td>NaN</td>\n",
       "      <td>2</td>\n",
       "      <td>NaN</td>\n",
       "      <td>NaN</td>\n",
       "      <td>720</td>\n",
       "      <td>2</td>\n",
       "      <td>3</td>\n",
       "      <td>2</td>\n",
       "    </tr>\n",
       "    <tr>\n",
       "      <th>3</th>\n",
       "      <td>62164</td>\n",
       "      <td>NaN</td>\n",
       "      <td>1</td>\n",
       "      <td>5</td>\n",
       "      <td>60</td>\n",
       "      <td>2</td>\n",
       "      <td>NaN</td>\n",
       "      <td>NaN</td>\n",
       "      <td>2</td>\n",
       "      <td>NaN</td>\n",
       "      <td>...</td>\n",
       "      <td>1</td>\n",
       "      <td>5</td>\n",
       "      <td>60</td>\n",
       "      <td>1</td>\n",
       "      <td>1</td>\n",
       "      <td>45</td>\n",
       "      <td>300</td>\n",
       "      <td>2</td>\n",
       "      <td>8</td>\n",
       "      <td>1</td>\n",
       "    </tr>\n",
       "    <tr>\n",
       "      <th>4</th>\n",
       "      <td>62165</td>\n",
       "      <td>NaN</td>\n",
       "      <td>2</td>\n",
       "      <td>NaN</td>\n",
       "      <td>NaN</td>\n",
       "      <td>2</td>\n",
       "      <td>NaN</td>\n",
       "      <td>NaN</td>\n",
       "      <td>1</td>\n",
       "      <td>7</td>\n",
       "      <td>...</td>\n",
       "      <td>1</td>\n",
       "      <td>2</td>\n",
       "      <td>25</td>\n",
       "      <td>1</td>\n",
       "      <td>2</td>\n",
       "      <td>25</td>\n",
       "      <td>600</td>\n",
       "      <td>5</td>\n",
       "      <td>2</td>\n",
       "      <td>2</td>\n",
       "    </tr>\n",
       "  </tbody>\n",
       "</table>\n",
       "<p>5 rows × 21 columns</p>\n",
       "</div>"
      ],
      "text/plain": [
       "    seqn  paq706  paq605  paq610  pad615  paq620  paq625  pad630  paq635  \\\n",
       "0  62161     NaN       2     NaN     NaN       2     NaN     NaN       2   \n",
       "1  62162       7     NaN     NaN     NaN     NaN     NaN     NaN     NaN   \n",
       "2  62163     NaN       2     NaN     NaN       2     NaN     NaN       1   \n",
       "3  62164     NaN       1       5      60       2     NaN     NaN       2   \n",
       "4  62165     NaN       2     NaN     NaN       2     NaN     NaN       1   \n",
       "\n",
       "   paq640   ...     paq650  paq655  pad660  paq665  paq670  pad675  pad680  \\\n",
       "0     NaN   ...          2     NaN     NaN       2     NaN     NaN     300   \n",
       "1     NaN   ...        NaN     NaN     NaN     NaN     NaN     NaN     NaN   \n",
       "2       6   ...          2     NaN     NaN       2     NaN     NaN     720   \n",
       "3     NaN   ...          1       5      60       1       1      45     300   \n",
       "4       7   ...          1       2      25       1       2      25     600   \n",
       "\n",
       "   paq710  paq715  paaquex  \n",
       "0       3       3        1  \n",
       "1       0       8        1  \n",
       "2       2       3        2  \n",
       "3       2       8        1  \n",
       "4       5       2        2  \n",
       "\n",
       "[5 rows x 21 columns]"
      ]
     },
     "execution_count": 10,
     "metadata": {},
     "output_type": "execute_result"
    }
   ],
   "source": [
    "phys = pd.read_csv(path + 'physical_activity.dat')\n",
    "physical_activity = phys[['SEQN', 'PAQ706', 'PAQ605', 'PAQ610', 'PAD615', 'PAQ620', 'PAQ625', 'PAD630', 'PAQ635', 'PAQ640', 'PAD645', 'PAQ650', 'PAQ655', 'PAD660', 'PAQ665', 'PAQ670', 'PAD675', 'PAD680', 'PAQ710', 'PAQ715', 'PAAQUEX']]\n",
    "physical_activity.columns = map(str.lower, physical_activity.columns)\n",
    "physical_activity.head()\n",
    "#len(physical_activity)"
   ]
  },
  {
   "cell_type": "code",
   "execution_count": 11,
   "metadata": {
    "collapsed": true
   },
   "outputs": [],
   "source": [
    "physical_activity.to_sql('physical_activity', engine, index=False, if_exists='append', chunksize=1000)"
   ]
  },
  {
   "cell_type": "markdown",
   "metadata": {},
   "source": [
    "###<font color='blue'>physical functioning</font>"
   ]
  },
  {
   "cell_type": "code",
   "execution_count": 12,
   "metadata": {
    "collapsed": false
   },
   "outputs": [
    {
     "data": {
      "text/html": [
       "<div>\n",
       "<table border=\"1\" class=\"dataframe\">\n",
       "  <thead>\n",
       "    <tr style=\"text-align: right;\">\n",
       "      <th></th>\n",
       "      <th>seqn</th>\n",
       "      <th>pfq063a</th>\n",
       "      <th>pfq063b</th>\n",
       "      <th>pfq063c</th>\n",
       "      <th>pfq063d</th>\n",
       "      <th>pfq063e</th>\n",
       "    </tr>\n",
       "  </thead>\n",
       "  <tbody>\n",
       "    <tr>\n",
       "      <th>0</th>\n",
       "      <td>62161</td>\n",
       "      <td>28</td>\n",
       "      <td>NaN</td>\n",
       "      <td>NaN</td>\n",
       "      <td>NaN</td>\n",
       "      <td>NaN</td>\n",
       "    </tr>\n",
       "    <tr>\n",
       "      <th>1</th>\n",
       "      <td>62163</td>\n",
       "      <td>NaN</td>\n",
       "      <td>NaN</td>\n",
       "      <td>NaN</td>\n",
       "      <td>NaN</td>\n",
       "      <td>NaN</td>\n",
       "    </tr>\n",
       "    <tr>\n",
       "      <th>2</th>\n",
       "      <td>62164</td>\n",
       "      <td>NaN</td>\n",
       "      <td>NaN</td>\n",
       "      <td>NaN</td>\n",
       "      <td>NaN</td>\n",
       "      <td>NaN</td>\n",
       "    </tr>\n",
       "    <tr>\n",
       "      <th>3</th>\n",
       "      <td>62165</td>\n",
       "      <td>NaN</td>\n",
       "      <td>NaN</td>\n",
       "      <td>NaN</td>\n",
       "      <td>NaN</td>\n",
       "      <td>NaN</td>\n",
       "    </tr>\n",
       "    <tr>\n",
       "      <th>4</th>\n",
       "      <td>62166</td>\n",
       "      <td>NaN</td>\n",
       "      <td>NaN</td>\n",
       "      <td>NaN</td>\n",
       "      <td>NaN</td>\n",
       "      <td>NaN</td>\n",
       "    </tr>\n",
       "  </tbody>\n",
       "</table>\n",
       "</div>"
      ],
      "text/plain": [
       "    seqn  pfq063a  pfq063b  pfq063c  pfq063d  pfq063e\n",
       "0  62161       28      NaN      NaN      NaN      NaN\n",
       "1  62163      NaN      NaN      NaN      NaN      NaN\n",
       "2  62164      NaN      NaN      NaN      NaN      NaN\n",
       "3  62165      NaN      NaN      NaN      NaN      NaN\n",
       "4  62166      NaN      NaN      NaN      NaN      NaN"
      ]
     },
     "execution_count": 12,
     "metadata": {},
     "output_type": "execute_result"
    }
   ],
   "source": [
    "physf = pd.read_csv(path + 'physical_functioning.dat')\n",
    "physical_functioning = physf[['SEQN', 'PFQ063A', 'PFQ063B', 'PFQ063C', 'PFQ063D', 'PFQ063E']]\n",
    "physical_functioning.columns = map(str.lower, physical_functioning.columns)\n",
    "physical_functioning.head()\n",
    "#len(physical_functioning)"
   ]
  },
  {
   "cell_type": "code",
   "execution_count": 13,
   "metadata": {
    "collapsed": true
   },
   "outputs": [],
   "source": [
    "physical_functioning.to_sql('physical_functioning', engine, index=False, if_exists='append', chunksize=1000)"
   ]
  },
  {
   "cell_type": "markdown",
   "metadata": {
    "collapsed": true
   },
   "source": [
    "###<font color='blue'>diabetes</font>"
   ]
  },
  {
   "cell_type": "code",
   "execution_count": 14,
   "metadata": {
    "collapsed": false
   },
   "outputs": [
    {
     "data": {
      "text/html": [
       "<div>\n",
       "<table border=\"1\" class=\"dataframe\">\n",
       "  <thead>\n",
       "    <tr style=\"text-align: right;\">\n",
       "      <th></th>\n",
       "      <th>seqn</th>\n",
       "      <th>diq010</th>\n",
       "      <th>did040</th>\n",
       "      <th>diq170</th>\n",
       "      <th>diq172</th>\n",
       "      <th>diq175a</th>\n",
       "      <th>diq175b</th>\n",
       "      <th>diq175d</th>\n",
       "      <th>diq175g</th>\n",
       "      <th>diq175i</th>\n",
       "      <th>diq175k</th>\n",
       "      <th>diq175v</th>\n",
       "    </tr>\n",
       "  </thead>\n",
       "  <tbody>\n",
       "    <tr>\n",
       "      <th>0</th>\n",
       "      <td>62161</td>\n",
       "      <td>2</td>\n",
       "      <td>NaN</td>\n",
       "      <td>2</td>\n",
       "      <td>1</td>\n",
       "      <td>10</td>\n",
       "      <td>NaN</td>\n",
       "      <td>NaN</td>\n",
       "      <td>NaN</td>\n",
       "      <td>NaN</td>\n",
       "      <td>NaN</td>\n",
       "      <td>NaN</td>\n",
       "    </tr>\n",
       "    <tr>\n",
       "      <th>1</th>\n",
       "      <td>62162</td>\n",
       "      <td>2</td>\n",
       "      <td>NaN</td>\n",
       "      <td>NaN</td>\n",
       "      <td>NaN</td>\n",
       "      <td>NaN</td>\n",
       "      <td>NaN</td>\n",
       "      <td>NaN</td>\n",
       "      <td>NaN</td>\n",
       "      <td>NaN</td>\n",
       "      <td>NaN</td>\n",
       "      <td>NaN</td>\n",
       "    </tr>\n",
       "    <tr>\n",
       "      <th>2</th>\n",
       "      <td>62163</td>\n",
       "      <td>2</td>\n",
       "      <td>NaN</td>\n",
       "      <td>2</td>\n",
       "      <td>2</td>\n",
       "      <td>NaN</td>\n",
       "      <td>NaN</td>\n",
       "      <td>NaN</td>\n",
       "      <td>NaN</td>\n",
       "      <td>NaN</td>\n",
       "      <td>NaN</td>\n",
       "      <td>NaN</td>\n",
       "    </tr>\n",
       "    <tr>\n",
       "      <th>3</th>\n",
       "      <td>62164</td>\n",
       "      <td>2</td>\n",
       "      <td>NaN</td>\n",
       "      <td>2</td>\n",
       "      <td>2</td>\n",
       "      <td>NaN</td>\n",
       "      <td>NaN</td>\n",
       "      <td>NaN</td>\n",
       "      <td>NaN</td>\n",
       "      <td>NaN</td>\n",
       "      <td>NaN</td>\n",
       "      <td>NaN</td>\n",
       "    </tr>\n",
       "    <tr>\n",
       "      <th>4</th>\n",
       "      <td>62165</td>\n",
       "      <td>2</td>\n",
       "      <td>NaN</td>\n",
       "      <td>2</td>\n",
       "      <td>1</td>\n",
       "      <td>10</td>\n",
       "      <td>NaN</td>\n",
       "      <td>NaN</td>\n",
       "      <td>NaN</td>\n",
       "      <td>NaN</td>\n",
       "      <td>NaN</td>\n",
       "      <td>NaN</td>\n",
       "    </tr>\n",
       "  </tbody>\n",
       "</table>\n",
       "</div>"
      ],
      "text/plain": [
       "    seqn  diq010  did040  diq170  diq172  diq175a  diq175b  diq175d  diq175g  \\\n",
       "0  62161       2     NaN       2       1       10      NaN      NaN      NaN   \n",
       "1  62162       2     NaN     NaN     NaN      NaN      NaN      NaN      NaN   \n",
       "2  62163       2     NaN       2       2      NaN      NaN      NaN      NaN   \n",
       "3  62164       2     NaN       2       2      NaN      NaN      NaN      NaN   \n",
       "4  62165       2     NaN       2       1       10      NaN      NaN      NaN   \n",
       "\n",
       "   diq175i  diq175k  diq175v  \n",
       "0      NaN      NaN      NaN  \n",
       "1      NaN      NaN      NaN  \n",
       "2      NaN      NaN      NaN  \n",
       "3      NaN      NaN      NaN  \n",
       "4      NaN      NaN      NaN  "
      ]
     },
     "execution_count": 14,
     "metadata": {},
     "output_type": "execute_result"
    }
   ],
   "source": [
    "diab = pd.read_csv(path + 'diabetes.dat')\n",
    "diabetes = diab[['SEQN', 'DIQ010', 'DID040', 'DIQ170', 'DIQ172', 'DIQ175A', 'DIQ175B', 'DIQ175D', 'DIQ175G', 'DIQ175I', 'DIQ175K', 'DIQ175V']]\n",
    "diabetes.columns = map(str.lower, diabetes.columns)\n",
    "diabetes.head()\n",
    "#len(diabetes)"
   ]
  },
  {
   "cell_type": "code",
   "execution_count": 15,
   "metadata": {
    "collapsed": true
   },
   "outputs": [],
   "source": [
    "diabetes.to_sql('diabetes', engine, index=False, if_exists='append', chunksize=1000)"
   ]
  },
  {
   "cell_type": "markdown",
   "metadata": {},
   "source": [
    "###<font color='blue'>medical_condition</font>"
   ]
  },
  {
   "cell_type": "code",
   "execution_count": 16,
   "metadata": {
    "collapsed": false
   },
   "outputs": [
    {
     "data": {
      "text/html": [
       "<div>\n",
       "<table border=\"1\" class=\"dataframe\">\n",
       "  <thead>\n",
       "    <tr style=\"text-align: right;\">\n",
       "      <th></th>\n",
       "      <th>seqn</th>\n",
       "      <th>mcq080</th>\n",
       "      <th>mcq086</th>\n",
       "      <th>mcq300c</th>\n",
       "      <th>mcq370a</th>\n",
       "      <th>mcq370b</th>\n",
       "      <th>mcq370c</th>\n",
       "      <th>mcq370d</th>\n",
       "    </tr>\n",
       "  </thead>\n",
       "  <tbody>\n",
       "    <tr>\n",
       "      <th>0</th>\n",
       "      <td>62161</td>\n",
       "      <td>2</td>\n",
       "      <td>2</td>\n",
       "      <td>1</td>\n",
       "      <td>1</td>\n",
       "      <td>1</td>\n",
       "      <td>2</td>\n",
       "      <td>2</td>\n",
       "    </tr>\n",
       "    <tr>\n",
       "      <th>1</th>\n",
       "      <td>62162</td>\n",
       "      <td>NaN</td>\n",
       "      <td>NaN</td>\n",
       "      <td>NaN</td>\n",
       "      <td>NaN</td>\n",
       "      <td>NaN</td>\n",
       "      <td>NaN</td>\n",
       "      <td>NaN</td>\n",
       "    </tr>\n",
       "    <tr>\n",
       "      <th>2</th>\n",
       "      <td>62163</td>\n",
       "      <td>NaN</td>\n",
       "      <td>2</td>\n",
       "      <td>NaN</td>\n",
       "      <td>NaN</td>\n",
       "      <td>NaN</td>\n",
       "      <td>NaN</td>\n",
       "      <td>NaN</td>\n",
       "    </tr>\n",
       "    <tr>\n",
       "      <th>3</th>\n",
       "      <td>62164</td>\n",
       "      <td>2</td>\n",
       "      <td>2</td>\n",
       "      <td>2</td>\n",
       "      <td>1</td>\n",
       "      <td>1</td>\n",
       "      <td>2</td>\n",
       "      <td>1</td>\n",
       "    </tr>\n",
       "    <tr>\n",
       "      <th>4</th>\n",
       "      <td>62165</td>\n",
       "      <td>NaN</td>\n",
       "      <td>2</td>\n",
       "      <td>NaN</td>\n",
       "      <td>NaN</td>\n",
       "      <td>NaN</td>\n",
       "      <td>NaN</td>\n",
       "      <td>NaN</td>\n",
       "    </tr>\n",
       "  </tbody>\n",
       "</table>\n",
       "</div>"
      ],
      "text/plain": [
       "    seqn  mcq080  mcq086  mcq300c  mcq370a  mcq370b  mcq370c  mcq370d\n",
       "0  62161       2       2        1        1        1        2        2\n",
       "1  62162     NaN     NaN      NaN      NaN      NaN      NaN      NaN\n",
       "2  62163     NaN       2      NaN      NaN      NaN      NaN      NaN\n",
       "3  62164       2       2        2        1        1        2        1\n",
       "4  62165     NaN       2      NaN      NaN      NaN      NaN      NaN"
      ]
     },
     "execution_count": 16,
     "metadata": {},
     "output_type": "execute_result"
    }
   ],
   "source": [
    "medcon = pd.read_csv(path + 'medical_condition.dat')\n",
    "medical_condition = medcon[['SEQN', 'MCQ080', 'MCQ086', 'MCQ300C', 'MCQ370A', 'MCQ370B', 'MCQ370C', 'MCQ370D']]\n",
    "medical_condition.columns = map(str.lower, medical_condition.columns)\n",
    "medical_condition.head()\n",
    "#len(medical_condition)"
   ]
  },
  {
   "cell_type": "code",
   "execution_count": 17,
   "metadata": {
    "collapsed": true
   },
   "outputs": [],
   "source": [
    "medical_condition.to_sql('medical_condition', engine, index=False, if_exists='append', chunksize=1000)"
   ]
  },
  {
   "cell_type": "markdown",
   "metadata": {
    "collapsed": true
   },
   "source": [
    "###<font color='blue'>alcohol_use</font>"
   ]
  },
  {
   "cell_type": "code",
   "execution_count": 19,
   "metadata": {
    "collapsed": false
   },
   "outputs": [
    {
     "data": {
      "text/html": [
       "<div>\n",
       "<table border=\"1\" class=\"dataframe\">\n",
       "  <thead>\n",
       "    <tr style=\"text-align: right;\">\n",
       "      <th></th>\n",
       "      <th>seqn</th>\n",
       "      <th>alq120q</th>\n",
       "      <th>alq120u</th>\n",
       "      <th>alq130</th>\n",
       "      <th>alq141q</th>\n",
       "      <th>alq141u</th>\n",
       "    </tr>\n",
       "  </thead>\n",
       "  <tbody>\n",
       "    <tr>\n",
       "      <th>0</th>\n",
       "      <td>62161</td>\n",
       "      <td>NaN</td>\n",
       "      <td>NaN</td>\n",
       "      <td>NaN</td>\n",
       "      <td>NaN</td>\n",
       "      <td>NaN</td>\n",
       "    </tr>\n",
       "    <tr>\n",
       "      <th>1</th>\n",
       "      <td>62164</td>\n",
       "      <td>NaN</td>\n",
       "      <td>NaN</td>\n",
       "      <td>NaN</td>\n",
       "      <td>NaN</td>\n",
       "      <td>NaN</td>\n",
       "    </tr>\n",
       "    <tr>\n",
       "      <th>2</th>\n",
       "      <td>62169</td>\n",
       "      <td>1</td>\n",
       "      <td>2</td>\n",
       "      <td>2</td>\n",
       "      <td>1</td>\n",
       "      <td>3</td>\n",
       "    </tr>\n",
       "    <tr>\n",
       "      <th>3</th>\n",
       "      <td>62172</td>\n",
       "      <td>2</td>\n",
       "      <td>1</td>\n",
       "      <td>3</td>\n",
       "      <td>1</td>\n",
       "      <td>1</td>\n",
       "    </tr>\n",
       "    <tr>\n",
       "      <th>4</th>\n",
       "      <td>62174</td>\n",
       "      <td>0</td>\n",
       "      <td>NaN</td>\n",
       "      <td>NaN</td>\n",
       "      <td>NaN</td>\n",
       "      <td>NaN</td>\n",
       "    </tr>\n",
       "  </tbody>\n",
       "</table>\n",
       "</div>"
      ],
      "text/plain": [
       "    seqn  alq120q  alq120u  alq130  alq141q  alq141u\n",
       "0  62161      NaN      NaN     NaN      NaN      NaN\n",
       "1  62164      NaN      NaN     NaN      NaN      NaN\n",
       "2  62169        1        2       2        1        3\n",
       "3  62172        2        1       3        1        1\n",
       "4  62174        0      NaN     NaN      NaN      NaN"
      ]
     },
     "execution_count": 19,
     "metadata": {},
     "output_type": "execute_result"
    }
   ],
   "source": [
    "alc = pd.read_csv(path + 'alcohol_use.dat')\n",
    "alcohol_use = alc[['SEQN', 'ALQ120Q', 'ALQ120U', 'ALQ130', 'ALQ141Q', 'ALQ141U']]\n",
    "alcohol_use.columns = map(str.lower, alcohol_use.columns)\n",
    "alcohol_use.head()"
   ]
  },
  {
   "cell_type": "code",
   "execution_count": 20,
   "metadata": {
    "collapsed": true
   },
   "outputs": [],
   "source": [
    "alcohol_use.to_sql('alcohol_use', engine, index=False, if_exists='append', chunksize=1000)"
   ]
  },
  {
   "cell_type": "markdown",
   "metadata": {},
   "source": [
    "###<font color='blue'>consumer_behavior</font>"
   ]
  },
  {
   "cell_type": "code",
   "execution_count": 23,
   "metadata": {
    "collapsed": false
   },
   "outputs": [
    {
     "data": {
      "text/html": [
       "<div>\n",
       "<table border=\"1\" class=\"dataframe\">\n",
       "  <thead>\n",
       "    <tr style=\"text-align: right;\">\n",
       "      <th></th>\n",
       "      <th>seqn</th>\n",
       "      <th>cbd070</th>\n",
       "      <th>cbd110</th>\n",
       "      <th>cbd120</th>\n",
       "      <th>cbd130</th>\n",
       "    </tr>\n",
       "  </thead>\n",
       "  <tbody>\n",
       "    <tr>\n",
       "      <th>0</th>\n",
       "      <td>62161</td>\n",
       "      <td>250</td>\n",
       "      <td>0</td>\n",
       "      <td>999999</td>\n",
       "      <td>0</td>\n",
       "    </tr>\n",
       "    <tr>\n",
       "      <th>1</th>\n",
       "      <td>62162</td>\n",
       "      <td>300</td>\n",
       "      <td>0</td>\n",
       "      <td>50</td>\n",
       "      <td>0</td>\n",
       "    </tr>\n",
       "    <tr>\n",
       "      <th>2</th>\n",
       "      <td>62163</td>\n",
       "      <td>500</td>\n",
       "      <td>93</td>\n",
       "      <td>75</td>\n",
       "      <td>0</td>\n",
       "    </tr>\n",
       "    <tr>\n",
       "      <th>3</th>\n",
       "      <td>62164</td>\n",
       "      <td>500</td>\n",
       "      <td>0</td>\n",
       "      <td>100</td>\n",
       "      <td>0</td>\n",
       "    </tr>\n",
       "    <tr>\n",
       "      <th>4</th>\n",
       "      <td>62165</td>\n",
       "      <td>450</td>\n",
       "      <td>0</td>\n",
       "      <td>30</td>\n",
       "      <td>0</td>\n",
       "    </tr>\n",
       "  </tbody>\n",
       "</table>\n",
       "</div>"
      ],
      "text/plain": [
       "    seqn  cbd070  cbd110  cbd120  cbd130\n",
       "0  62161     250       0  999999       0\n",
       "1  62162     300       0      50       0\n",
       "2  62163     500      93      75       0\n",
       "3  62164     500       0     100       0\n",
       "4  62165     450       0      30       0"
      ]
     },
     "execution_count": 23,
     "metadata": {},
     "output_type": "execute_result"
    }
   ],
   "source": [
    "cons = pd.read_csv(path + 'consumer_behavior.dat')\n",
    "consumer_behavior = cons[['SEQN', 'CBD070', 'CBD110', 'CBD120', 'CBD130']]\n",
    "consumer_behavior.columns = map(str.lower, consumer_behavior.columns)\n",
    "consumer_behavior.head()"
   ]
  },
  {
   "cell_type": "code",
   "execution_count": 24,
   "metadata": {
    "collapsed": true
   },
   "outputs": [],
   "source": [
    "consumer_behavior.to_sql('consumer_behavior', engine, index=False, if_exists='append', chunksize=1000)"
   ]
  },
  {
   "cell_type": "markdown",
   "metadata": {},
   "source": [
    "###<font color='blue'>dietary</font>"
   ]
  },
  {
   "cell_type": "code",
   "execution_count": 58,
   "metadata": {
    "collapsed": false
   },
   "outputs": [
    {
     "data": {
      "text/html": [
       "<div>\n",
       "<table border=\"1\" class=\"dataframe\">\n",
       "  <thead>\n",
       "    <tr style=\"text-align: right;\">\n",
       "      <th></th>\n",
       "      <th>seqn</th>\n",
       "      <th>drdint</th>\n",
       "      <th>dr1ccmnm</th>\n",
       "      <th>dr1ccmtx</th>\n",
       "      <th>dr1fs</th>\n",
       "      <th>dr1_040z</th>\n",
       "      <th>dr1ifdcd</th>\n",
       "      <th>dr1iprot</th>\n",
       "      <th>dr1icarb</th>\n",
       "      <th>dr1isugr</th>\n",
       "      <th>...</th>\n",
       "      <th>dr1itfat</th>\n",
       "      <th>dr1ichol</th>\n",
       "      <th>dr1isfat</th>\n",
       "      <th>dr1imfat</th>\n",
       "      <th>dr1ipfat</th>\n",
       "      <th>dr1isodi</th>\n",
       "      <th>dr1icaff</th>\n",
       "      <th>dr1ialco</th>\n",
       "      <th>dr1ivd</th>\n",
       "      <th>dr1ipota</th>\n",
       "    </tr>\n",
       "  </thead>\n",
       "  <tbody>\n",
       "    <tr>\n",
       "      <th>0</th>\n",
       "      <td>62161</td>\n",
       "      <td>2</td>\n",
       "      <td>0</td>\n",
       "      <td>0</td>\n",
       "      <td>NaN</td>\n",
       "      <td>1</td>\n",
       "      <td>94000100</td>\n",
       "      <td>0.00</td>\n",
       "      <td>0.00</td>\n",
       "      <td>0.00</td>\n",
       "      <td>...</td>\n",
       "      <td>0.00</td>\n",
       "      <td>0</td>\n",
       "      <td>0.000</td>\n",
       "      <td>0.000</td>\n",
       "      <td>0.000</td>\n",
       "      <td>57</td>\n",
       "      <td>0</td>\n",
       "      <td>0</td>\n",
       "      <td>0.0</td>\n",
       "      <td>0</td>\n",
       "    </tr>\n",
       "    <tr>\n",
       "      <th>1</th>\n",
       "      <td>62161</td>\n",
       "      <td>2</td>\n",
       "      <td>5</td>\n",
       "      <td>90</td>\n",
       "      <td>1</td>\n",
       "      <td>1</td>\n",
       "      <td>58131510</td>\n",
       "      <td>17.82</td>\n",
       "      <td>42.43</td>\n",
       "      <td>0.52</td>\n",
       "      <td>...</td>\n",
       "      <td>13.98</td>\n",
       "      <td>191</td>\n",
       "      <td>7.524</td>\n",
       "      <td>4.334</td>\n",
       "      <td>1.203</td>\n",
       "      <td>1342</td>\n",
       "      <td>0</td>\n",
       "      <td>0</td>\n",
       "      <td>0.9</td>\n",
       "      <td>169</td>\n",
       "    </tr>\n",
       "    <tr>\n",
       "      <th>2</th>\n",
       "      <td>62161</td>\n",
       "      <td>2</td>\n",
       "      <td>5</td>\n",
       "      <td>90</td>\n",
       "      <td>1</td>\n",
       "      <td>1</td>\n",
       "      <td>81102000</td>\n",
       "      <td>0.04</td>\n",
       "      <td>0.01</td>\n",
       "      <td>0.00</td>\n",
       "      <td>...</td>\n",
       "      <td>4.16</td>\n",
       "      <td>0</td>\n",
       "      <td>0.712</td>\n",
       "      <td>1.520</td>\n",
       "      <td>1.644</td>\n",
       "      <td>50</td>\n",
       "      <td>0</td>\n",
       "      <td>0</td>\n",
       "      <td>0.1</td>\n",
       "      <td>2</td>\n",
       "    </tr>\n",
       "    <tr>\n",
       "      <th>3</th>\n",
       "      <td>62161</td>\n",
       "      <td>2</td>\n",
       "      <td>0</td>\n",
       "      <td>0</td>\n",
       "      <td>1</td>\n",
       "      <td>1</td>\n",
       "      <td>64104010</td>\n",
       "      <td>0.45</td>\n",
       "      <td>50.79</td>\n",
       "      <td>43.24</td>\n",
       "      <td>...</td>\n",
       "      <td>0.58</td>\n",
       "      <td>0</td>\n",
       "      <td>0.099</td>\n",
       "      <td>0.027</td>\n",
       "      <td>0.175</td>\n",
       "      <td>18</td>\n",
       "      <td>0</td>\n",
       "      <td>0</td>\n",
       "      <td>0.0</td>\n",
       "      <td>454</td>\n",
       "    </tr>\n",
       "    <tr>\n",
       "      <th>4</th>\n",
       "      <td>62161</td>\n",
       "      <td>2</td>\n",
       "      <td>0</td>\n",
       "      <td>0</td>\n",
       "      <td>1</td>\n",
       "      <td>2</td>\n",
       "      <td>53712100</td>\n",
       "      <td>4.34</td>\n",
       "      <td>27.69</td>\n",
       "      <td>12.29</td>\n",
       "      <td>...</td>\n",
       "      <td>8.51</td>\n",
       "      <td>0</td>\n",
       "      <td>1.019</td>\n",
       "      <td>1.883</td>\n",
       "      <td>5.182</td>\n",
       "      <td>126</td>\n",
       "      <td>0</td>\n",
       "      <td>0</td>\n",
       "      <td>0.0</td>\n",
       "      <td>144</td>\n",
       "    </tr>\n",
       "  </tbody>\n",
       "</table>\n",
       "<p>5 rows × 21 columns</p>\n",
       "</div>"
      ],
      "text/plain": [
       "    seqn  drdint  dr1ccmnm  dr1ccmtx  dr1fs  dr1_040z  dr1ifdcd  dr1iprot  \\\n",
       "0  62161       2         0         0    NaN         1  94000100      0.00   \n",
       "1  62161       2         5        90      1         1  58131510     17.82   \n",
       "2  62161       2         5        90      1         1  81102000      0.04   \n",
       "3  62161       2         0         0      1         1  64104010      0.45   \n",
       "4  62161       2         0         0      1         2  53712100      4.34   \n",
       "\n",
       "   dr1icarb  dr1isugr    ...     dr1itfat  dr1ichol  dr1isfat  dr1imfat  \\\n",
       "0      0.00      0.00    ...         0.00         0     0.000     0.000   \n",
       "1     42.43      0.52    ...        13.98       191     7.524     4.334   \n",
       "2      0.01      0.00    ...         4.16         0     0.712     1.520   \n",
       "3     50.79     43.24    ...         0.58         0     0.099     0.027   \n",
       "4     27.69     12.29    ...         8.51         0     1.019     1.883   \n",
       "\n",
       "   dr1ipfat  dr1isodi  dr1icaff  dr1ialco  dr1ivd  dr1ipota  \n",
       "0     0.000        57         0         0     0.0         0  \n",
       "1     1.203      1342         0         0     0.9       169  \n",
       "2     1.644        50         0         0     0.1         2  \n",
       "3     0.175        18         0         0     0.0       454  \n",
       "4     5.182       126         0         0     0.0       144  \n",
       "\n",
       "[5 rows x 21 columns]"
      ]
     },
     "execution_count": 58,
     "metadata": {},
     "output_type": "execute_result"
    }
   ],
   "source": [
    "di = pd.read_csv(path + 'dietary_individual_day_1.dat')\n",
    "dietary = di[['SEQN', 'DRDINT', 'DR1CCMNM', 'DR1CCMTX', 'DR1FS', 'DR1_040Z', 'DR1IFDCD', 'DR1IPROT', 'DR1ICARB', 'DR1ISUGR', 'DR1IFIBE', 'DR1ITFAT', 'DR1ICHOL', 'DR1ISFAT', 'DR1IMFAT', 'DR1IPFAT', 'DR1ISODI', 'DR1ICAFF', 'DR1IALCO', 'DR1IVD', 'DR1IPOTA']]\n",
    "dietary.columns = map(str.lower, dietary.columns)\n",
    "dietary.head()"
   ]
  },
  {
   "cell_type": "code",
   "execution_count": 59,
   "metadata": {
    "collapsed": true
   },
   "outputs": [],
   "source": [
    "dietary.to_sql('dietary', engine, index=False, if_exists='append', chunksize=1000)"
   ]
  },
  {
   "cell_type": "markdown",
   "metadata": {},
   "source": [
    "###<font color='blue'>mental_health</font>"
   ]
  },
  {
   "cell_type": "code",
   "execution_count": 33,
   "metadata": {
    "collapsed": false
   },
   "outputs": [
    {
     "data": {
      "text/html": [
       "<div>\n",
       "<table border=\"1\" class=\"dataframe\">\n",
       "  <thead>\n",
       "    <tr style=\"text-align: right;\">\n",
       "      <th></th>\n",
       "      <th>seqn</th>\n",
       "      <th>dpq030</th>\n",
       "    </tr>\n",
       "  </thead>\n",
       "  <tbody>\n",
       "    <tr>\n",
       "      <th>0</th>\n",
       "      <td>62161</td>\n",
       "      <td>0</td>\n",
       "    </tr>\n",
       "    <tr>\n",
       "      <th>1</th>\n",
       "      <td>62164</td>\n",
       "      <td>NaN</td>\n",
       "    </tr>\n",
       "    <tr>\n",
       "      <th>2</th>\n",
       "      <td>62169</td>\n",
       "      <td>1</td>\n",
       "    </tr>\n",
       "    <tr>\n",
       "      <th>3</th>\n",
       "      <td>62172</td>\n",
       "      <td>1</td>\n",
       "    </tr>\n",
       "    <tr>\n",
       "      <th>4</th>\n",
       "      <td>62174</td>\n",
       "      <td>0</td>\n",
       "    </tr>\n",
       "  </tbody>\n",
       "</table>\n",
       "</div>"
      ],
      "text/plain": [
       "    seqn  dpq030\n",
       "0  62161       0\n",
       "1  62164     NaN\n",
       "2  62169       1\n",
       "3  62172       1\n",
       "4  62174       0"
      ]
     },
     "execution_count": 33,
     "metadata": {},
     "output_type": "execute_result"
    }
   ],
   "source": [
    "men = pd.read_csv(path + 'mental_health_depression.dat')\n",
    "mental_health = men[['SEQN', 'DPQ030']]\n",
    "mental_health.columns = map(str.lower, mental_health.columns)\n",
    "mental_health.head()"
   ]
  },
  {
   "cell_type": "code",
   "execution_count": 34,
   "metadata": {
    "collapsed": false
   },
   "outputs": [],
   "source": [
    "mental_health.to_sql('mental_health', engine, index=False, if_exists='append', chunksize=1000)"
   ]
  },
  {
   "cell_type": "markdown",
   "metadata": {},
   "source": [
    "###<font color='blue'>muscle_strength</font>"
   ]
  },
  {
   "cell_type": "code",
   "execution_count": 36,
   "metadata": {
    "collapsed": false
   },
   "outputs": [
    {
     "data": {
      "text/html": [
       "<div>\n",
       "<table border=\"1\" class=\"dataframe\">\n",
       "  <thead>\n",
       "    <tr style=\"text-align: right;\">\n",
       "      <th></th>\n",
       "      <th>seqn</th>\n",
       "      <th>mgxh1t1</th>\n",
       "      <th>mgxh1t2</th>\n",
       "      <th>mgxh1t3</th>\n",
       "      <th>mgdcgsz</th>\n",
       "    </tr>\n",
       "  </thead>\n",
       "  <tbody>\n",
       "    <tr>\n",
       "      <th>0</th>\n",
       "      <td>62161</td>\n",
       "      <td>31.4</td>\n",
       "      <td>31.7</td>\n",
       "      <td>34.4</td>\n",
       "      <td>69.3</td>\n",
       "    </tr>\n",
       "    <tr>\n",
       "      <th>1</th>\n",
       "      <td>62163</td>\n",
       "      <td>34.3</td>\n",
       "      <td>36.5</td>\n",
       "      <td>27.1</td>\n",
       "      <td>71.0</td>\n",
       "    </tr>\n",
       "    <tr>\n",
       "      <th>2</th>\n",
       "      <td>62164</td>\n",
       "      <td>32.5</td>\n",
       "      <td>35.4</td>\n",
       "      <td>37.5</td>\n",
       "      <td>75.8</td>\n",
       "    </tr>\n",
       "    <tr>\n",
       "      <th>3</th>\n",
       "      <td>62165</td>\n",
       "      <td>20.1</td>\n",
       "      <td>22.2</td>\n",
       "      <td>24.9</td>\n",
       "      <td>50.5</td>\n",
       "    </tr>\n",
       "    <tr>\n",
       "      <th>4</th>\n",
       "      <td>62166</td>\n",
       "      <td>12.3</td>\n",
       "      <td>11.2</td>\n",
       "      <td>12.8</td>\n",
       "      <td>28.3</td>\n",
       "    </tr>\n",
       "  </tbody>\n",
       "</table>\n",
       "</div>"
      ],
      "text/plain": [
       "    seqn  mgxh1t1  mgxh1t2  mgxh1t3  mgdcgsz\n",
       "0  62161     31.4     31.7     34.4     69.3\n",
       "1  62163     34.3     36.5     27.1     71.0\n",
       "2  62164     32.5     35.4     37.5     75.8\n",
       "3  62165     20.1     22.2     24.9     50.5\n",
       "4  62166     12.3     11.2     12.8     28.3"
      ]
     },
     "execution_count": 36,
     "metadata": {},
     "output_type": "execute_result"
    }
   ],
   "source": [
    "mus = pd.read_csv(path + 'muscle_strength_grip.dat')\n",
    "muscle_strength = mus[['SEQN', 'MGXH1T1', 'MGXH1T2', 'MGXH1T3', 'MGDCGSZ']]\n",
    "muscle_strength.columns = map(str.lower, muscle_strength.columns)\n",
    "muscle_strength.head()"
   ]
  },
  {
   "cell_type": "code",
   "execution_count": 37,
   "metadata": {
    "collapsed": true
   },
   "outputs": [],
   "source": [
    "muscle_strength.to_sql('muscle_strength', engine, index=False, if_exists='append', chunksize=1000)"
   ]
  },
  {
   "cell_type": "markdown",
   "metadata": {},
   "source": [
    "###<font color='blue'>sleep_disorder</font>"
   ]
  },
  {
   "cell_type": "code",
   "execution_count": 40,
   "metadata": {
    "collapsed": false
   },
   "outputs": [
    {
     "data": {
      "text/html": [
       "<div>\n",
       "<table border=\"1\" class=\"dataframe\">\n",
       "  <thead>\n",
       "    <tr style=\"text-align: right;\">\n",
       "      <th></th>\n",
       "      <th>seqn</th>\n",
       "      <th>sld010h</th>\n",
       "      <th>slq050</th>\n",
       "    </tr>\n",
       "  </thead>\n",
       "  <tbody>\n",
       "    <tr>\n",
       "      <th>0</th>\n",
       "      <td>62161</td>\n",
       "      <td>8</td>\n",
       "      <td>2</td>\n",
       "    </tr>\n",
       "    <tr>\n",
       "      <th>1</th>\n",
       "      <td>62164</td>\n",
       "      <td>8</td>\n",
       "      <td>1</td>\n",
       "    </tr>\n",
       "    <tr>\n",
       "      <th>2</th>\n",
       "      <td>62169</td>\n",
       "      <td>8</td>\n",
       "      <td>2</td>\n",
       "    </tr>\n",
       "    <tr>\n",
       "      <th>3</th>\n",
       "      <td>62172</td>\n",
       "      <td>8</td>\n",
       "      <td>2</td>\n",
       "    </tr>\n",
       "    <tr>\n",
       "      <th>4</th>\n",
       "      <td>62174</td>\n",
       "      <td>9</td>\n",
       "      <td>2</td>\n",
       "    </tr>\n",
       "  </tbody>\n",
       "</table>\n",
       "</div>"
      ],
      "text/plain": [
       "    seqn  sld010h  slq050\n",
       "0  62161        8       2\n",
       "1  62164        8       1\n",
       "2  62169        8       2\n",
       "3  62172        8       2\n",
       "4  62174        9       2"
      ]
     },
     "execution_count": 40,
     "metadata": {},
     "output_type": "execute_result"
    }
   ],
   "source": [
    "slp = pd.read_csv(path + 'sleep_disorders.dat')\n",
    "sleep_disorder = slp[['SEQN', 'SLD010H', 'SLQ050']]\n",
    "sleep_disorder.columns = map(str.lower, sleep_disorder.columns)\n",
    "sleep_disorder.head()"
   ]
  },
  {
   "cell_type": "code",
   "execution_count": 39,
   "metadata": {
    "collapsed": true
   },
   "outputs": [],
   "source": [
    "sleep_disorder.to_sql('sleep_disorder', engine, index=False, if_exists='append', chunksize=1000)"
   ]
  },
  {
   "cell_type": "markdown",
   "metadata": {},
   "source": [
    "###<font color='blue'>smoking_cigarette</font>"
   ]
  },
  {
   "cell_type": "code",
   "execution_count": 43,
   "metadata": {
    "collapsed": false
   },
   "outputs": [
    {
     "data": {
      "text/html": [
       "<div>\n",
       "<table border=\"1\" class=\"dataframe\">\n",
       "  <thead>\n",
       "    <tr style=\"text-align: right;\">\n",
       "      <th></th>\n",
       "      <th>seqn</th>\n",
       "      <th>smq020</th>\n",
       "      <th>smd641</th>\n",
       "      <th>smd650</th>\n",
       "    </tr>\n",
       "  </thead>\n",
       "  <tbody>\n",
       "    <tr>\n",
       "      <th>0</th>\n",
       "      <td>62161</td>\n",
       "      <td>2</td>\n",
       "      <td>NaN</td>\n",
       "      <td>NaN</td>\n",
       "    </tr>\n",
       "    <tr>\n",
       "      <th>1</th>\n",
       "      <td>62163</td>\n",
       "      <td>NaN</td>\n",
       "      <td>NaN</td>\n",
       "      <td>NaN</td>\n",
       "    </tr>\n",
       "    <tr>\n",
       "      <th>2</th>\n",
       "      <td>62164</td>\n",
       "      <td>2</td>\n",
       "      <td>NaN</td>\n",
       "      <td>NaN</td>\n",
       "    </tr>\n",
       "    <tr>\n",
       "      <th>3</th>\n",
       "      <td>62165</td>\n",
       "      <td>NaN</td>\n",
       "      <td>NaN</td>\n",
       "      <td>NaN</td>\n",
       "    </tr>\n",
       "    <tr>\n",
       "      <th>4</th>\n",
       "      <td>62169</td>\n",
       "      <td>2</td>\n",
       "      <td>NaN</td>\n",
       "      <td>NaN</td>\n",
       "    </tr>\n",
       "  </tbody>\n",
       "</table>\n",
       "</div>"
      ],
      "text/plain": [
       "    seqn  smq020  smd641  smd650\n",
       "0  62161       2     NaN     NaN\n",
       "1  62163     NaN     NaN     NaN\n",
       "2  62164       2     NaN     NaN\n",
       "3  62165     NaN     NaN     NaN\n",
       "4  62169       2     NaN     NaN"
      ]
     },
     "execution_count": 43,
     "metadata": {},
     "output_type": "execute_result"
    }
   ],
   "source": [
    "smoke = pd.read_csv(path + 'smoking_cigarette_use.dat')\n",
    "smoking_cigarette = smoke[['SEQN', 'SMQ020', 'SMD641', 'SMD650']]\n",
    "smoking_cigarette.columns = map(str.lower, smoking_cigarette.columns)\n",
    "smoking_cigarette.head()"
   ]
  },
  {
   "cell_type": "code",
   "execution_count": 44,
   "metadata": {
    "collapsed": true
   },
   "outputs": [],
   "source": [
    "smoking_cigarette.to_sql('smoking_cigarette', engine, index=False, if_exists='append', chunksize=1000)"
   ]
  },
  {
   "cell_type": "markdown",
   "metadata": {},
   "source": [
    "###<font color='blue'>weight_history</font>"
   ]
  },
  {
   "cell_type": "code",
   "execution_count": 46,
   "metadata": {
    "collapsed": false
   },
   "outputs": [
    {
     "data": {
      "text/html": [
       "<div>\n",
       "<table border=\"1\" class=\"dataframe\">\n",
       "  <thead>\n",
       "    <tr style=\"text-align: right;\">\n",
       "      <th></th>\n",
       "      <th>seqn</th>\n",
       "      <th>whd010</th>\n",
       "      <th>whd020</th>\n",
       "      <th>whq070</th>\n",
       "      <th>whd080a</th>\n",
       "      <th>whd080b</th>\n",
       "      <th>whd080c</th>\n",
       "      <th>whd080d</th>\n",
       "      <th>whd080e</th>\n",
       "      <th>whd080f</th>\n",
       "      <th>...</th>\n",
       "      <th>whd080k</th>\n",
       "      <th>whd080m</th>\n",
       "      <th>whd080n</th>\n",
       "      <th>whd080o</th>\n",
       "      <th>whd080p</th>\n",
       "      <th>whd080q</th>\n",
       "      <th>whd080r</th>\n",
       "      <th>whd080s</th>\n",
       "      <th>whd080t</th>\n",
       "      <th>whd080l</th>\n",
       "    </tr>\n",
       "  </thead>\n",
       "  <tbody>\n",
       "    <tr>\n",
       "      <th>0</th>\n",
       "      <td>62161</td>\n",
       "      <td>68</td>\n",
       "      <td>150</td>\n",
       "      <td>NaN</td>\n",
       "      <td>10</td>\n",
       "      <td>NaN</td>\n",
       "      <td>NaN</td>\n",
       "      <td>NaN</td>\n",
       "      <td>NaN</td>\n",
       "      <td>NaN</td>\n",
       "      <td>...</td>\n",
       "      <td>NaN</td>\n",
       "      <td>NaN</td>\n",
       "      <td>NaN</td>\n",
       "      <td>NaN</td>\n",
       "      <td>NaN</td>\n",
       "      <td>NaN</td>\n",
       "      <td>NaN</td>\n",
       "      <td>NaN</td>\n",
       "      <td>NaN</td>\n",
       "      <td>NaN</td>\n",
       "    </tr>\n",
       "    <tr>\n",
       "      <th>1</th>\n",
       "      <td>62164</td>\n",
       "      <td>66</td>\n",
       "      <td>139</td>\n",
       "      <td>NaN</td>\n",
       "      <td>10</td>\n",
       "      <td>11</td>\n",
       "      <td>12</td>\n",
       "      <td>13</td>\n",
       "      <td>NaN</td>\n",
       "      <td>NaN</td>\n",
       "      <td>...</td>\n",
       "      <td>NaN</td>\n",
       "      <td>34</td>\n",
       "      <td>NaN</td>\n",
       "      <td>41</td>\n",
       "      <td>NaN</td>\n",
       "      <td>43</td>\n",
       "      <td>NaN</td>\n",
       "      <td>NaN</td>\n",
       "      <td>NaN</td>\n",
       "      <td>NaN</td>\n",
       "    </tr>\n",
       "    <tr>\n",
       "      <th>2</th>\n",
       "      <td>62169</td>\n",
       "      <td>64</td>\n",
       "      <td>120</td>\n",
       "      <td>2</td>\n",
       "      <td>NaN</td>\n",
       "      <td>NaN</td>\n",
       "      <td>NaN</td>\n",
       "      <td>NaN</td>\n",
       "      <td>NaN</td>\n",
       "      <td>NaN</td>\n",
       "      <td>...</td>\n",
       "      <td>NaN</td>\n",
       "      <td>NaN</td>\n",
       "      <td>NaN</td>\n",
       "      <td>NaN</td>\n",
       "      <td>NaN</td>\n",
       "      <td>NaN</td>\n",
       "      <td>NaN</td>\n",
       "      <td>NaN</td>\n",
       "      <td>NaN</td>\n",
       "      <td>NaN</td>\n",
       "    </tr>\n",
       "    <tr>\n",
       "      <th>3</th>\n",
       "      <td>62172</td>\n",
       "      <td>67</td>\n",
       "      <td>203</td>\n",
       "      <td>1</td>\n",
       "      <td>10</td>\n",
       "      <td>NaN</td>\n",
       "      <td>12</td>\n",
       "      <td>NaN</td>\n",
       "      <td>NaN</td>\n",
       "      <td>NaN</td>\n",
       "      <td>...</td>\n",
       "      <td>NaN</td>\n",
       "      <td>NaN</td>\n",
       "      <td>NaN</td>\n",
       "      <td>NaN</td>\n",
       "      <td>NaN</td>\n",
       "      <td>NaN</td>\n",
       "      <td>NaN</td>\n",
       "      <td>NaN</td>\n",
       "      <td>NaN</td>\n",
       "      <td>NaN</td>\n",
       "    </tr>\n",
       "    <tr>\n",
       "      <th>4</th>\n",
       "      <td>62174</td>\n",
       "      <td>68</td>\n",
       "      <td>211</td>\n",
       "      <td>1</td>\n",
       "      <td>10</td>\n",
       "      <td>NaN</td>\n",
       "      <td>12</td>\n",
       "      <td>NaN</td>\n",
       "      <td>NaN</td>\n",
       "      <td>NaN</td>\n",
       "      <td>...</td>\n",
       "      <td>NaN</td>\n",
       "      <td>NaN</td>\n",
       "      <td>NaN</td>\n",
       "      <td>NaN</td>\n",
       "      <td>NaN</td>\n",
       "      <td>NaN</td>\n",
       "      <td>NaN</td>\n",
       "      <td>NaN</td>\n",
       "      <td>NaN</td>\n",
       "      <td>NaN</td>\n",
       "    </tr>\n",
       "  </tbody>\n",
       "</table>\n",
       "<p>5 rows × 24 columns</p>\n",
       "</div>"
      ],
      "text/plain": [
       "    seqn  whd010  whd020  whq070  whd080a  whd080b  whd080c  whd080d  whd080e  \\\n",
       "0  62161      68     150     NaN       10      NaN      NaN      NaN      NaN   \n",
       "1  62164      66     139     NaN       10       11       12       13      NaN   \n",
       "2  62169      64     120       2      NaN      NaN      NaN      NaN      NaN   \n",
       "3  62172      67     203       1       10      NaN       12      NaN      NaN   \n",
       "4  62174      68     211       1       10      NaN       12      NaN      NaN   \n",
       "\n",
       "   whd080f   ...     whd080k  whd080m  whd080n  whd080o  whd080p  whd080q  \\\n",
       "0      NaN   ...         NaN      NaN      NaN      NaN      NaN      NaN   \n",
       "1      NaN   ...         NaN       34      NaN       41      NaN       43   \n",
       "2      NaN   ...         NaN      NaN      NaN      NaN      NaN      NaN   \n",
       "3      NaN   ...         NaN      NaN      NaN      NaN      NaN      NaN   \n",
       "4      NaN   ...         NaN      NaN      NaN      NaN      NaN      NaN   \n",
       "\n",
       "   whd080r  whd080s  whd080t  whd080l  \n",
       "0      NaN      NaN      NaN      NaN  \n",
       "1      NaN      NaN      NaN      NaN  \n",
       "2      NaN      NaN      NaN      NaN  \n",
       "3      NaN      NaN      NaN      NaN  \n",
       "4      NaN      NaN      NaN      NaN  \n",
       "\n",
       "[5 rows x 24 columns]"
      ]
     },
     "execution_count": 46,
     "metadata": {},
     "output_type": "execute_result"
    }
   ],
   "source": [
    "wght = pd.read_csv(path + 'weight_history.dat')\n",
    "weight_history = wght[['SEQN', 'WHD010', 'WHD020', 'WHQ070', 'WHD080A', 'WHD080B', 'WHD080C', 'WHD080D', 'WHD080E', 'WHD080F', 'WHD080G', 'WHD080H', 'WHD080I', 'WHD080J', 'WHD080K', 'WHD080M', 'WHD080N', 'WHD080O', 'WHD080P', 'WHD080Q', 'WHD080R', 'WHD080S', 'WHD080T', 'WHD080L']]\n",
    "weight_history.columns = map(str.lower, weight_history.columns)\n",
    "weight_history.head()"
   ]
  },
  {
   "cell_type": "code",
   "execution_count": 47,
   "metadata": {
    "collapsed": true
   },
   "outputs": [],
   "source": [
    "weight_history.to_sql('weight_history', engine, index=False, if_exists='append', chunksize=1000)"
   ]
  },
  {
   "cell_type": "markdown",
   "metadata": {},
   "source": [
    "###<font color='blue'>blood_pressure</font>"
   ]
  },
  {
   "cell_type": "code",
   "execution_count": 48,
   "metadata": {
    "collapsed": false
   },
   "outputs": [
    {
     "data": {
      "text/html": [
       "<div>\n",
       "<table border=\"1\" class=\"dataframe\">\n",
       "  <thead>\n",
       "    <tr style=\"text-align: right;\">\n",
       "      <th></th>\n",
       "      <th>seqn</th>\n",
       "      <th>bpq020</th>\n",
       "    </tr>\n",
       "  </thead>\n",
       "  <tbody>\n",
       "    <tr>\n",
       "      <th>0</th>\n",
       "      <td>62161</td>\n",
       "      <td>2</td>\n",
       "    </tr>\n",
       "    <tr>\n",
       "      <th>1</th>\n",
       "      <td>62164</td>\n",
       "      <td>2</td>\n",
       "    </tr>\n",
       "    <tr>\n",
       "      <th>2</th>\n",
       "      <td>62169</td>\n",
       "      <td>2</td>\n",
       "    </tr>\n",
       "    <tr>\n",
       "      <th>3</th>\n",
       "      <td>62172</td>\n",
       "      <td>2</td>\n",
       "    </tr>\n",
       "    <tr>\n",
       "      <th>4</th>\n",
       "      <td>62174</td>\n",
       "      <td>1</td>\n",
       "    </tr>\n",
       "  </tbody>\n",
       "</table>\n",
       "</div>"
      ],
      "text/plain": [
       "    seqn  bpq020\n",
       "0  62161       2\n",
       "1  62164       2\n",
       "2  62169       2\n",
       "3  62172       2\n",
       "4  62174       1"
      ]
     },
     "execution_count": 48,
     "metadata": {},
     "output_type": "execute_result"
    }
   ],
   "source": [
    "bp = pd.read_csv(path + 'blood_pressure_cholesterol.dat')\n",
    "blood_pressure = bp[['SEQN', 'BPQ020']]\n",
    "blood_pressure.columns = map(str.lower, blood_pressure.columns)\n",
    "blood_pressure.head()"
   ]
  },
  {
   "cell_type": "code",
   "execution_count": 49,
   "metadata": {
    "collapsed": true
   },
   "outputs": [],
   "source": [
    "blood_pressure.to_sql('blood_pressure', engine, index=False, if_exists='append', chunksize=1000)"
   ]
  },
  {
   "cell_type": "markdown",
   "metadata": {
    "collapsed": true
   },
   "source": [
    "###<font color='blue'>tobacco</font>"
   ]
  },
  {
   "cell_type": "code",
   "execution_count": 52,
   "metadata": {
    "collapsed": false
   },
   "outputs": [
    {
     "data": {
      "text/html": [
       "<div>\n",
       "<table border=\"1\" class=\"dataframe\">\n",
       "  <thead>\n",
       "    <tr style=\"text-align: right;\">\n",
       "      <th></th>\n",
       "      <th>seqn</th>\n",
       "      <th>smq680</th>\n",
       "    </tr>\n",
       "  </thead>\n",
       "  <tbody>\n",
       "    <tr>\n",
       "      <th>0</th>\n",
       "      <td>62161</td>\n",
       "      <td>2</td>\n",
       "    </tr>\n",
       "    <tr>\n",
       "      <th>1</th>\n",
       "      <td>62163</td>\n",
       "      <td>2</td>\n",
       "    </tr>\n",
       "    <tr>\n",
       "      <th>2</th>\n",
       "      <td>62164</td>\n",
       "      <td>NaN</td>\n",
       "    </tr>\n",
       "    <tr>\n",
       "      <th>3</th>\n",
       "      <td>62165</td>\n",
       "      <td>2</td>\n",
       "    </tr>\n",
       "    <tr>\n",
       "      <th>4</th>\n",
       "      <td>62169</td>\n",
       "      <td>2</td>\n",
       "    </tr>\n",
       "  </tbody>\n",
       "</table>\n",
       "</div>"
      ],
      "text/plain": [
       "    seqn  smq680\n",
       "0  62161       2\n",
       "1  62163       2\n",
       "2  62164     NaN\n",
       "3  62165       2\n",
       "4  62169       2"
      ]
     },
     "execution_count": 52,
     "metadata": {},
     "output_type": "execute_result"
    }
   ],
   "source": [
    "tob = pd.read_csv(path + 'tobacco.dat')\n",
    "tobacco = tob[['SEQN', 'SMQ680']]\n",
    "tobacco.columns = map(str.lower, tobacco.columns)\n",
    "tobacco.head()"
   ]
  },
  {
   "cell_type": "code",
   "execution_count": 53,
   "metadata": {
    "collapsed": true
   },
   "outputs": [],
   "source": [
    "tobacco.to_sql('tobacco', engine, index=False, if_exists='append', chunksize=1000)"
   ]
  },
  {
   "cell_type": "code",
   "execution_count": null,
   "metadata": {
    "collapsed": true
   },
   "outputs": [],
   "source": []
  }
 ],
 "metadata": {
  "kernelspec": {
   "display_name": "Python 2",
   "language": "python",
   "name": "python2"
  },
  "language_info": {
   "codemirror_mode": {
    "name": "ipython",
    "version": 2
   },
   "file_extension": ".py",
   "mimetype": "text/x-python",
   "name": "python",
   "nbconvert_exporter": "python",
   "pygments_lexer": "ipython2",
   "version": "2.7.10"
  }
 },
 "nbformat": 4,
 "nbformat_minor": 0
}
